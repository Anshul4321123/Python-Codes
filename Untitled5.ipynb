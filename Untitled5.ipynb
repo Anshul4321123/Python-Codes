{
  "nbformat": 4,
  "nbformat_minor": 0,
  "metadata": {
    "colab": {
      "provenance": [],
      "authorship_tag": "ABX9TyMS0T6teOoW5XhSPW5e3Y7q",
      "include_colab_link": true
    },
    "kernelspec": {
      "name": "python3",
      "display_name": "Python 3"
    },
    "language_info": {
      "name": "python"
    }
  },
  "cells": [
    {
      "cell_type": "markdown",
      "metadata": {
        "id": "view-in-github",
        "colab_type": "text"
      },
      "source": [
        "<a href=\"https://colab.research.google.com/github/Anshul4321123/Python-Codes/blob/main/Untitled5.ipynb\" target=\"_parent\"><img src=\"https://colab.research.google.com/assets/colab-badge.svg\" alt=\"Open In Colab\"/></a>"
      ]
    },
    {
      "cell_type": "code",
      "source": [
        "import pandas as pd"
      ],
      "metadata": {
        "id": "r0DG1ytjClVQ"
      },
      "execution_count": null,
      "outputs": []
    },
    {
      "cell_type": "code",
      "source": [
        "eoc_alert_df = pd.read_csv(\"EOC_Alerted_tranaction.csv\")\n",
        "output_df = pd.read_csv(\"output_data.csv\")\n",
        "thresholds_df = pd.read_csv(\"analyticsthreshold.csv\")\n",
        "breach_df = pd.read_csv(\"threshold_breach.csv\")"
      ],
      "metadata": {
        "id": "q5ZZlk7SCqKa"
      },
      "execution_count": null,
      "outputs": []
    },
    {
      "cell_type": "code",
      "source": [
        "merged = pd.merge(eoc_alert_df, output_df, left_on=\"TRANSACTION_INTERNAL_ID\", right_on=\"TRANSACTION_ID\", how=\"left\")\n",
        "merged = pd.merge(merged, breach_df, on=\"ALERT_ID\", how=\"left\")\n",
        "merged = pd.merge(merged, thresholds_df, on=\"THRESHOLD_ID\", how=\"left\")\n",
        "\n",
        "# Timestamp\n",
        "merged[\"TRANSACTION_TIMESTAMP\"] = pd.to_datetime(merged[\"TRANSACTION_TIMESTAMP\"])\n"
      ],
      "metadata": {
        "id": "mguNotBLCx-X"
      },
      "execution_count": null,
      "outputs": []
    },
    {
      "cell_type": "code",
      "source": [
        "def fraud_label(row):\n",
        "    try:\n",
        "        if pd.notna(row[\"THRESHOLD_VALUE\"]) and pd.notna(row[\"BREACH_VALUE\"]):\n",
        "            return \"FRAUD DETECTED\" if float(row[\"BREACH_VALUE\"]) > float(row[\"THRESHOLD_VALUE\"]) else \"OK\"\n",
        "        else:\n",
        "            return \"NO COMPARISON\"\n",
        "    except:\n",
        "        return \"ERROR\"\n",
        "\n",
        "merged[\"FRAUD_LABEL\"] = merged.apply(fraud_label, axis=1)\n"
      ],
      "metadata": {
        "id": "1AxncMfFCyvu"
      },
      "execution_count": null,
      "outputs": []
    },
    {
      "cell_type": "code",
      "source": [
        "fraud_count = (merged[\"FRAUD_LABEL\"] == \"FRAUD DETECTED\").sum()\n",
        "fraud_traders = merged.loc[merged[\"FRAUD_LABEL\"] == \"FRAUD DETECTED\", \"TRADER_ID\"].dropna().unique()\n",
        "\n",
        "print(\"🚨 FRAUDS FOUND:\", fraud_count)\n",
        "print(\"🧑‍💼 Traders with fraud:\", fraud_traders)\n"
      ],
      "metadata": {
        "colab": {
          "base_uri": "https://localhost:8080/"
        },
        "id": "Ec8DjCE9C4TE",
        "outputId": "a1b743d5-d917-469d-ffcc-a32163dab7df"
      },
      "execution_count": null,
      "outputs": [
        {
          "output_type": "stream",
          "name": "stdout",
          "text": [
            "🚨 FRAUDS FOUND: 1794\n",
            "🧑‍💼 Traders with fraud: ['T641' 'T1429' 'T269' 'T23' 'T237' 'T189' 'T966' 'T1462' 'T507' 'T1809'\n",
            " 'T820' 'T960' 'T547' 'T1195' 'T30' 'T1513' 'T1512' 'T750' 'T1613' 'T456'\n",
            " 'T1555' 'T256' 'T224' 'T1740' 'T1413' 'T155' 'T1043' 'T858' 'T621'\n",
            " 'T1505' 'T1366' 'T1322' 'T1726' 'T187' 'T1859' 'T701' 'T1676' 'T998'\n",
            " 'T1986' 'T744' 'T553' 'T1432' 'T1172' 'T1315' 'T1080' 'T56' 'T1666'\n",
            " 'T1149' 'T1503' 'T167' 'T1608' 'T776' 'T793' 'T1268' 'T1451' 'T1415'\n",
            " 'T358' 'T815' 'T989' 'T1396' 'T441' 'T424' 'T326' 'T1373' 'T1328' 'T473'\n",
            " 'T878' 'T339' 'T758' 'T1203' 'T1490' 'T327' 'T366' 'T1443' 'T935' 'T262'\n",
            " 'T407' 'T346' 'T310' 'T1346' 'T897' 'T1468' 'T377' 'T1275' 'T1084'\n",
            " 'T1473' 'T921' 'T1816' 'T1530' 'T1948' 'T563' 'T1770' 'T805' 'T94' 'T206'\n",
            " 'T1524' 'T1626' 'T46' 'T469' 'T291' 'T1932' 'T280' 'T1283' 'T1576' 'T560'\n",
            " 'T1359' 'T1237' 'T1344' 'T519' 'T1165' 'T1501' 'T1910' 'T1247' 'T1391'\n",
            " 'T1573' 'T881' 'T1401' 'T146' 'T1200' 'T196' 'T472' 'T541' 'T1822' 'T470'\n",
            " 'T1229' 'T699' 'T375' 'T120' 'T1444' 'T1406' 'T1600' 'T531' 'T233'\n",
            " 'T1330' 'T1699' 'T47' 'T1928' 'T1649' 'T963' 'T1389' 'T1943' 'T1243'\n",
            " 'T1840' 'T313' 'T1222' 'T1725' 'T624' 'T1482' 'T1537' 'T1065' 'T1705'\n",
            " 'T1739' 'T309' 'T1551' 'T841' 'T476' 'T781' 'T1142' 'T587' 'T457' 'T648'\n",
            " 'T1813' 'T1003' 'T117' 'T184' 'T1375' 'T997' 'T844' 'T630' 'T1289' 'T995'\n",
            " 'T13' 'T1021' 'T719' 'T955' 'T654' 'T1925' 'T82' 'T1037' 'T668' 'T544'\n",
            " 'T660' 'T1377' 'T1636' 'T546' 'T1961' 'T1888' 'T1968' 'T1435' 'T1541'\n",
            " 'T1332' 'T244' 'T1957' 'T542' 'T904' 'T566' 'T394' 'T1713' 'T1272' 'T832'\n",
            " 'T649' 'T133' 'T1768' 'T1368' 'T879' 'T1246' 'T640' 'T235' 'T1899'\n",
            " 'T1099' 'T1294' 'T1107' 'T1954' 'T1876' 'T1536' 'T1669' 'T158' 'T188'\n",
            " 'T1521' 'T1252' 'T1950' 'T1077' 'T403' 'T1972' 'T1382' 'T1758' 'T1586'\n",
            " 'T362' 'T1622' 'T497' 'T670' 'T1671' 'T1651' 'T160' 'T521' 'T273' 'T181'\n",
            " 'T1101' 'T1011' 'T717' 'T1073' 'T1638' 'T747' 'T1064' 'T1898' 'T720'\n",
            " 'T1372' 'T484' 'T1729' 'T737' 'T657' 'T1450' 'T422' 'T1835' 'T274'\n",
            " 'T1376' 'T704' 'T682' 'T1701' 'T1970' 'T239' 'T248' 'T1919' 'T925'\n",
            " 'T1266' 'T658' 'T655' 'T1625' 'T1581' 'T777' 'T1989' 'T799' 'T1878'\n",
            " 'T1556' 'T130' 'T1686' 'T1369' 'T1523' 'T686' 'T170' 'T360' 'T190'\n",
            " 'T1454' 'T1917' 'T384' 'T1190' 'T715' 'T1495' 'T1942' 'T1633' 'T1105'\n",
            " 'T1314' 'T876' 'T1547' 'T1615' 'T410' 'T783' 'T205' 'T1833' 'T1612' 'T20'\n",
            " 'T743' 'T478' 'T1404' 'T1857' 'T481' 'T894' 'T294' 'T556' 'T1327' 'T58'\n",
            " 'T1017' 'T828' 'T241' 'T1905' 'T316' 'T850' 'T1426' 'T1714' 'T1428'\n",
            " 'T1628' 'T581' 'T1717' 'T1890' 'T427' 'T1909' 'T388' 'T1079' 'T710'\n",
            " 'T1121' 'T9' 'T1427' 'T808' 'T936' 'T86' 'T797' 'T557' 'T1434' 'T524'\n",
            " 'T1820' 'T1355' 'T1982' 'T156' 'T788' 'T713' 'T616' 'T300' 'T1565'\n",
            " 'T1869' 'T615' 'T702' 'T1186' 'T772' 'T527' 'T662' 'T125' 'T1744' 'T514'\n",
            " 'T495' 'T260' 'T1336' 'T1475' 'T554' 'T1441' 'T1515' 'T1276' 'T114'\n",
            " 'T1938' 'T1005' 'T1383' 'T883' 'T1748' 'T1640' 'T1380' 'T204' 'T1124'\n",
            " 'T423' 'T982' 'T1194' 'T1775' 'T381' 'T599' 'T1317' 'T999' 'T861' 'T1665'\n",
            " 'T1300' 'T1774' 'T1235' 'T1400' 'T1035' 'T896' 'T1529' 'T597' 'T887'\n",
            " 'T320' 'T1716' 'T939' 'T1885' 'T1879' 'T1629' 'T1493' 'T1233' 'T209'\n",
            " 'T246' 'T526' 'T1508' 'T1604' 'T795' 'T1270' 'T1712' 'T1390' 'T342'\n",
            " 'T862' 'T757' 'T532' 'T4' 'T1398' 'T433' 'T864' 'T837' 'T1342' 'T1862'\n",
            " 'T1804' 'T619' 'T1539' 'T1407' 'T217' 'T1606' 'T927' 'T1162' 'T1824'\n",
            " 'T490' 'T848' 'T852' 'T1923' 'T1654' 'T19' 'T1147' 'T163' 'T1039' 'T447'\n",
            " 'T1880' 'T738' 'T1903' 'T1187' 'T1439' 'T1' 'T1138' 'T1624' 'T1403'\n",
            " 'T965' 'T31' 'T50' 'T1399' 'T222' 'T1834' 'T1358' 'T1182' 'T449' 'T1619'\n",
            " 'T866' 'T565' 'T733' 'T1010' 'T886' 'T1265' 'T678' 'T1793' 'T931' 'T1894'\n",
            " 'T752' 'T1853' 'T211' 'T729' 'T873' 'T923' 'T1114' 'T1440' 'T445' 'T994'\n",
            " 'T611' 'T408' 'T582' 'T981' 'T1015' 'T406' 'T1062' 'T1057' 'T501' 'T134'\n",
            " 'T250' 'T768' 'T667' 'T829' 'T119' 'T1337' 'T888' 'T1301' 'T822' 'T977'\n",
            " 'T121' 'T1202' 'T325' 'T1611' 'T1721' 'T759' 'T1720' 'T1219' 'T1002'\n",
            " 'T823' 'T1352' 'T764' 'T1103' 'T1519' 'T889' 'T1850' 'T637' 'T57' 'T898'\n",
            " 'T1164' 'T1030' 'T1446' 'T754' 'T390' 'T1911' 'T420' 'T139' 'T1860'\n",
            " 'T261' 'T494' 'T803' 'T482' 'T1810' 'T131' 'T1449' 'T97' 'T1808' 'T446'\n",
            " 'T572' 'T1601' 'T323' 'T1655' 'T941' 'T725' 'T87' 'T595' 'T812' 'T1979'\n",
            " 'T1994' 'T253' 'T393' 'T1771' 'T1038' 'T1582' 'T1236' 'T957' 'T1472'\n",
            " 'T197' 'T1694' 'T215' 'T1703' 'T1260' 'T1445' 'T1778' 'T1239' 'T1127'\n",
            " 'T100' 'T703' 'T1914' 'T1448' 'T464' 'T1659' 'T431' 'T496' 'T1223'\n",
            " 'T1549' 'T1815' 'T195' 'T1069' 'T1827' 'T1487' 'T1379' 'T340' 'T17'\n",
            " 'T810' 'T975' 'T1843' 'T1033' 'T1657' 'T503' 'T1784' 'T1231' 'T784'\n",
            " 'T1329' 'T1226' 'T1009' 'T1605' 'T1598' 'T638' 'T913' 'T382' 'T1341'\n",
            " 'T1648' 'T1656' 'T29' 'T1281' 'T1288' 'T1209' 'T1588' 'T695' 'T351'\n",
            " 'T1962' 'T1647' 'T1741' 'T1100' 'T1228' 'T1933' 'T1031' 'T448' 'T1452'\n",
            " 'T577' 'T452' 'T290' 'T632' 'T2' 'T77' 'T639' 'T1273' 'T1113' 'T1532'\n",
            " 'T61' 'T159' 'T1193' 'T1821' 'T352' 'T1930' 'T1111' 'T109' 'T118' 'T1469'\n",
            " 'T1499' 'T523' 'T540' 'T1683' 'T1678' 'T855' 'T429' 'T1690' 'T1285'\n",
            " 'T907' 'T1978' 'T1566' 'T1528' 'T1895' 'T1577' 'T14' 'T210' 'T1238'\n",
            " 'T162' 'T1362' 'T1312' 'T1603' 'T376' 'T1331' 'T1047' 'T1227' 'T1171'\n",
            " 'T1673' 'T444' 'T895' 'T308' 'T1896' 'T1148' 'T821' 'T944' 'T229' 'T110'\n",
            " 'T1790' 'T356' 'T477' 'T1767' 'T1531' 'T1089' 'T322' 'T910' 'T1041'\n",
            " 'T1514' 'T1411' 'T849' 'T475' 'T1823' 'T1949' 'T730' 'T216' 'T387' 'T742'\n",
            " 'T96' 'T948' 'T480' 'T298' 'T1051' 'T1746' 'T1687' 'T284' 'T439' 'T69'\n",
            " 'T1284' 'T1560' 'T1973' 'T1985' 'T75' 'T1169' 'T1177' 'T534' 'T1967'\n",
            " 'T562' 'T1074' 'T697' 'T409' 'T1029' 'T603' 'T281' 'T1027' 'T770' 'T1763'\n",
            " 'T417' 'T1542' 'T1711' 'T467' 'T1863' 'T1825' 'T901' 'T498' 'T83' 'T278'\n",
            " 'T169' 'T1799' 'T11' 'T1386' 'T255' 'T194' 'T1908' 'T1385' 'T1877' 'T629'\n",
            " 'T1212' 'T723' 'T299' 'T283' 'T1927' 'T1929' 'T1969' 'T613' 'T1067'\n",
            " 'T555' 'T1112' 'T136' 'T397' 'T1783' 'T1491' 'T1365' 'T1814' 'T1977'\n",
            " 'T1463' 'T1592' 'T164' 'T365' 'T32' 'T380' 'T1161' 'T843' 'T80' 'T727'\n",
            " 'T946' 'T1154' 'T1872' 'T831' 'T1960' 'T419' 'T1635' 'T1987' 'T1291'\n",
            " 'T267' 'T1728' 'T1797' 'T183' 'T465' 'T1457' 'T1819' 'T1856' 'T748'\n",
            " 'T1339' 'T1131' 'T462' 'T1158' 'T1818' 'T926' 'T663' 'T694' 'T1196'\n",
            " 'T609' 'T45' 'T378' 'T232' 'T1677' 'T451' 'T1295' 'T1685' 'T12' 'T932'\n",
            " 'T53' 'T468' 'T789' 'T1504' 'T1564' 'T1350' 'T718' 'T463' 'T1419' 'T1855'\n",
            " 'T1497' 'T168' 'T827' 'T1109' 'T669' 'T1307' 'T286' 'T1554' 'T1078'\n",
            " 'T600' 'T1431' 'T1254' 'T1945' 'T242' 'T1139' 'T193' 'T1392' 'T552'\n",
            " 'T1104' 'T1984' 'T1570' 'T1245' 'T835' 'T902' 'T186' 'T1715' 'T509'\n",
            " 'T1545' 'T455' 'T372' 'T1116' 'T1947' 'T1754' 'T1841' 'T1132' 'T634'\n",
            " 'T1587' 'T930' 'T1642' 'T147' 'T673' 'T6' 'T1806' 'T414' 'T598' 'T1303'\n",
            " 'T969' 'T814' 'T1224' 'T1418' 'T1436' 'T1052' 'T1133' 'T1422' 'T1794'\n",
            " 'T1304' 'T161' 'T1257' 'T839' 'T1214' 'T1090' 'T1727' 'T614' 'T537'\n",
            " 'T1518' 'T1474' 'T692' 'T785' 'T675' 'T450' 'T1040' 'T27' 'T389' 'T1936'\n",
            " 'T909' 'T1442' 'T1887' 'T373' 'T818' 'T1465' 'T1091' 'T1387' 'T1764'\n",
            " 'T1664' 'T549' 'T1502' 'T817' 'T1798' 'T1297' 'T1614' 'T1019' 'T10']\n"
          ]
        }
      ]
    },
    {
      "cell_type": "code",
      "source": [
        "merged.to_csv(\"THRESHOLD_FRAUDS_ALLTIME.csv\", index=False)"
      ],
      "metadata": {
        "id": "eR2EUkRFC9ai"
      },
      "execution_count": null,
      "outputs": []
    },
    {
      "cell_type": "code",
      "source": [
        "print(f\"👥 Total Traders: {merged['TRADER_ID'].nunique()} | 🚨 Traders with Fraud: {merged[merged['FRAUD_LABEL'] == 'FRAUD DETECTED']['TRADER_ID'].nunique()}\")\n"
      ],
      "metadata": {
        "colab": {
          "base_uri": "https://localhost:8080/"
        },
        "id": "Ycp_nQKiDWY9",
        "outputId": "ea2f78f3-6167-4719-8063-042ef45d2819"
      },
      "execution_count": null,
      "outputs": [
        {
          "output_type": "stream",
          "name": "stdout",
          "text": [
            "👥 Total Traders: 913 | 🚨 Traders with Fraud: 913\n"
          ]
        }
      ]
    },
    {
      "cell_type": "code",
      "source": [
        "import pandas as pd\n",
        "from datetime import time\n",
        "\n",
        "eoc_alert_df = pd.read_csv(\"EOC_Alerted_tranaction.csv\")\n",
        "output_df = pd.read_csv(\"output_data.csv\")\n",
        "thresholds_df = pd.read_csv(\"analyticsthreshold.csv\")\n",
        "breach_df = pd.read_csv(\"threshold_breach.csv\")\n",
        "\n",
        "merged = pd.merge(eoc_alert_df, output_df, left_on=\"TRANSACTION_INTERNAL_ID\", right_on=\"TRANSACTION_ID\", how=\"left\")\n",
        "merged = pd.merge(merged, breach_df, on=\"ALERT_ID\", how=\"left\")\n",
        "merged = pd.merge(merged, thresholds_df, on=\"THRESHOLD_ID\", how=\"left\")\n",
        "\n",
        "merged[\"TRANSACTION_TIMESTAMP\"] = pd.to_datetime(merged[\"TRANSACTION_TIMESTAMP\"])\n",
        "merged[\"TXN_TIME\"] = merged[\"TRANSACTION_TIMESTAMP\"].dt.time\n",
        "\n",
        "eod_start = time(15, 25)\n",
        "eod_end = time(16, 30)\n",
        "open_start = time(9, 15)\n",
        "open_end = time(10, 15)\n",
        "\n",
        "merged[\"IS_EOD\"] = merged[\"TXN_TIME\"].between(eod_start, eod_end)\n",
        "merged[\"IS_OPEN\"] = merged[\"TXN_TIME\"].between(open_start, open_end)\n",
        "merged[\"IS_VALID_TIME\"] = merged[\"IS_EOD\"] | merged[\"IS_OPEN\"]\n",
        "\n",
        "eoc_filtered = merged[\n",
        "    merged[\"IS_VALID_TIME\"]\n",
        "].copy()\n",
        "\n",
        "eoc_filtered = eoc_filtered[\n",
        "    pd.notna(eoc_filtered[\"BREACH_VALUE\"]) & pd.notna(eoc_filtered[\"THRESHOLD_VALUE\"])\n",
        "].copy()\n",
        "eoc_filtered[\"BREACH_VALUE\"] = pd.to_numeric(eoc_filtered[\"BREACH_VALUE\"], errors=\"coerce\")\n",
        "eoc_filtered[\"THRESHOLD_VALUE\"] = pd.to_numeric(eoc_filtered[\"THRESHOLD_VALUE\"], errors=\"coerce\")\n",
        "\n",
        "eoc_filtered = eoc_filtered[\n",
        "    pd.notna(eoc_filtered[\"BREACH_VALUE\"]) & pd.notna(eoc_filtered[\"THRESHOLD_VALUE\"])\n",
        "].copy()\n",
        "\n",
        "if not eoc_filtered.empty:\n",
        "    eoc_filtered[\"MAGNITUDE\"] = eoc_filtered[\"BREACH_VALUE\"] - eoc_filtered[\"THRESHOLD_VALUE\"]\n",
        "\n",
        "    m_min = eoc_filtered[\"MAGNITUDE\"].min()\n",
        "    m_max = eoc_filtered[\"MAGNITUDE\"].max()\n",
        "\n",
        "    if m_max != m_min:\n",
        "        eoc_filtered[\"SCALED_MAGNITUDE\"] = (eoc_filtered[\"MAGNITUDE\"] - m_min) / (m_max - m_min)\n",
        "    else:\n",
        "        eoc_filtered[\"SCALED_MAGNITUDE\"] = 1.0\n",
        "\n",
        "    def classify(row):\n",
        "        if row[\"SCALED_MAGNITUDE\"] > 0.9:\n",
        "            return \"FRAUD DETECTED\"\n",
        "        elif row[\"SCALED_MAGNITUDE\"] > 0.7:\n",
        "            return \"POSSIBLE CASE\"\n",
        "        else:\n",
        "            return \"OK\"\n",
        "\n",
        "    eoc_filtered[\"FRAUD_LABEL\"] = eoc_filtered.apply(classify, axis=1)\n",
        "else:\n",
        "    eoc_filtered[\"MAGNITUDE\"] = []\n",
        "    eoc_filtered[\"SCALED_MAGNITUDE\"] = []\n",
        "    eoc_filtered[\"FRAUD_LABEL\"] = []\n",
        "\n",
        "\n",
        "merged = pd.merge(\n",
        "    merged,\n",
        "    eoc_filtered[[\"ALERT_ID\", \"MAGNITUDE\", \"SCALED_MAGNITUDE\", \"FRAUD_LABEL\"]],\n",
        "    on=\"ALERT_ID\",\n",
        "    how=\"left\"\n",
        ")\n",
        "\n",
        "fraud_count = (merged[\"FRAUD_LABEL\"] == \"FRAUD DETECTED\").sum()\n",
        "case_count = (merged[\"FRAUD_LABEL\"] == \"POSSIBLE CASE\").sum()\n",
        "ok_count = (merged[\"FRAUD_LABEL\"] == \"OK\").sum()\n",
        "\n",
        "print(f\"🚨 Total FRAUD DETECTED: {fraud_count}\")\n",
        "print(f\"⚠️ Total POSSIBLE CASE: {case_count}\")\n",
        "print(f\"✅ Total OK: {ok_count}\")\n",
        "print(f\"👥 Traders with Fraud: {merged.loc[merged['FRAUD_LABEL'] == 'FRAUD DETECTED', 'TRADER_ID'].nunique()}\")\n",
        "\n",
        "merged.to_csv(\"EOC_Scored_Labeled.csv\", index=False)\n"
      ],
      "metadata": {
        "colab": {
          "base_uri": "https://localhost:8080/"
        },
        "id": "tBwXwtCjMWhy",
        "outputId": "d9f26ed0-60cd-4c7b-ac78-ef6b8934989a"
      },
      "execution_count": 119,
      "outputs": [
        {
          "output_type": "stream",
          "name": "stdout",
          "text": [
            "🚨 Total FRAUD DETECTED: 108\n",
            "⚠️ Total POSSIBLE CASE: 0\n",
            "✅ Total OK: 34872\n",
            "👥 Traders with Fraud: 6\n"
          ]
        }
      ]
    }
  ]
}